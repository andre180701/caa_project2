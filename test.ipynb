{
 "cells": [
  {
   "cell_type": "code",
   "execution_count": 1,
   "metadata": {},
   "outputs": [
    {
     "name": "stderr",
     "output_type": "stream",
     "text": [
      "2023-06-11 19:59:30.165827: I tensorflow/tsl/cuda/cudart_stub.cc:28] Could not find cuda drivers on your machine, GPU will not be used.\n",
      "2023-06-11 19:59:30.460681: I tensorflow/tsl/cuda/cudart_stub.cc:28] Could not find cuda drivers on your machine, GPU will not be used.\n",
      "2023-06-11 19:59:30.464696: I tensorflow/core/platform/cpu_feature_guard.cc:182] This TensorFlow binary is optimized to use available CPU instructions in performance-critical operations.\n",
      "To enable the following instructions: AVX2 FMA, in other operations, rebuild TensorFlow with the appropriate compiler flags.\n",
      "2023-06-11 19:59:33.304552: W tensorflow/compiler/tf2tensorrt/utils/py_utils.cc:38] TF-TRT Warning: Could not find TensorRT\n"
     ]
    }
   ],
   "source": [
    "import pandas as pd\n",
    "import numpy as np\n",
    "import matplotlib.pyplot as plt\n",
    "import seaborn as sns\n",
    "import random\n",
    "import warnings\n",
    "from tqdm import tqdm\n",
    "import os\n",
    "import cv2\n",
    "from sklearn.model_selection import train_test_split\n",
    "import tensorflow as tf\n",
    "from keras.preprocessing.image import ImageDataGenerator\n",
    "from keras.layers import Conv2D, Flatten, MaxPooling2D, Dense, Dropout, BatchNormalization, Activation, Input\n",
    "from keras.models import Sequential, Model\n",
    "from sklearn.metrics import confusion_matrix, classification_report\n",
    "from keras import regularizers\n",
    "from keras.optimizers import RMSprop\n",
    "from keras.callbacks import EarlyStopping, ReduceLROnPlateau\n",
    "\n",
    "warnings.filterwarnings(\"ignore\")"
   ]
  },
  {
   "cell_type": "code",
   "execution_count": 2,
   "metadata": {},
   "outputs": [],
   "source": [
    "res = 216\n",
    "\n",
    "def load_data(directory):\n",
    "    images = []\n",
    "    labels = []\n",
    "    for folder in tqdm(os.listdir(directory)):\n",
    "        label = folder\n",
    "        data_path = os.path.join(directory, folder)\n",
    "        if not os.path.isdir(data_path):\n",
    "            continue\n",
    "        for filename in tqdm(os.listdir(data_path), position=0, leave=True, desc=f\"Loading images from {directory.split(os.sep)[-2]} folder\"):\n",
    "            img = cv2.imread(os.path.join(data_path, filename))\n",
    "            if img is None:\n",
    "                continue\n",
    "            img = cv2.resize(img, (res, res))\n",
    "            img = np.array(img)\n",
    "            images.append(img)\n",
    "            labels.append(label)\n",
    "    return np.array(images), np.array(labels)\n"
   ]
  },
  {
   "cell_type": "code",
   "execution_count": 3,
   "metadata": {},
   "outputs": [
    {
     "name": "stderr",
     "output_type": "stream",
     "text": [
      "Loading images from train folder: 100%|██████████| 1342/1342 [00:34<00:00, 38.62it/s]\n",
      "Loading images from train folder: 100%|██████████| 3876/3876 [00:31<00:00, 123.95it/s]\n",
      "100%|██████████| 3/3 [01:06<00:00, 22.01s/it]\n",
      "Loading images from test folder: 100%|██████████| 234/234 [00:04<00:00, 57.70it/s]\n",
      "Loading images from test folder: 100%|██████████| 390/390 [00:02<00:00, 149.58it/s]\n",
      "100%|██████████| 3/3 [00:06<00:00,  2.22s/it]\n"
     ]
    }
   ],
   "source": [
    "x_train, y_train = load_data('chest_xray/chest_xray/train/')\n",
    "x_test, y_test = load_data('chest_xray/chest_xray/test/')"
   ]
  },
  {
   "cell_type": "code",
   "execution_count": 4,
   "metadata": {},
   "outputs": [],
   "source": [
    "y_train = np.where(y_train == 'NORMAL', 0, 1)\n",
    "y_test = np.where(y_test == 'NORMAL', 0, 1)"
   ]
  },
  {
   "cell_type": "code",
   "execution_count": 5,
   "metadata": {},
   "outputs": [
    {
     "name": "stdout",
     "output_type": "stream",
     "text": [
      "AHAHAHAHAHAHAAH\n",
      "AHAHAHAHAHAHAAH\n",
      "BABABABABABABAABABAB\n"
     ]
    },
    {
     "name": "stderr",
     "output_type": "stream",
     "text": [
      "2023-06-11 20:00:55.283152: W tensorflow/tsl/framework/cpu_allocator_impl.cc:83] Allocation of 391910400 exceeds 10% of free system memory.\n"
     ]
    },
    {
     "name": "stdout",
     "output_type": "stream",
     "text": [
      "Epoch 1/5\n"
     ]
    },
    {
     "name": "stderr",
     "output_type": "stream",
     "text": [
      "2023-06-11 20:01:00.529115: W tensorflow/tsl/framework/cpu_allocator_impl.cc:83] Allocation of 95551488 exceeds 10% of free system memory.\n",
      "2023-06-11 20:01:00.625507: W tensorflow/tsl/framework/cpu_allocator_impl.cc:83] Allocation of 95551488 exceeds 10% of free system memory.\n",
      "2023-06-11 20:01:00.692678: W tensorflow/tsl/framework/cpu_allocator_impl.cc:83] Allocation of 99123200 exceeds 10% of free system memory.\n",
      "2023-06-11 20:01:00.767698: W tensorflow/tsl/framework/cpu_allocator_impl.cc:83] Allocation of 95551488 exceeds 10% of free system memory.\n"
     ]
    },
    {
     "name": "stdout",
     "output_type": "stream",
     "text": [
      "22/22 [==============================] - ETA: 0s - loss: 0.6210 - accuracy: 0.7200"
     ]
    },
    {
     "ename": "",
     "evalue": "",
     "output_type": "error",
     "traceback": [
      "\u001b[1;31mCanceled future for execute_request message before replies were done"
     ]
    },
    {
     "ename": "",
     "evalue": "",
     "output_type": "error",
     "traceback": [
      "\u001b[1;31mThe Kernel crashed while executing code in the the current cell or a previous cell. Please review the code in the cell(s) to identify a possible cause of the failure. Click <a href='https://aka.ms/vscodeJupyterKernelCrash'>here</a> for more info. View Jupyter <a href='command:jupyter.viewOutput'>log</a> for further details."
     ]
    }
   ],
   "source": [
    "from tensorflow.keras.applications import ResNet50\n",
    "from tensorflow.keras.models import Sequential\n",
    "from tensorflow.keras.layers import Dense, Flatten, GlobalAveragePooling2D\n",
    "from tensorflow.keras.utils import to_categorical\n",
    "from sklearn.model_selection import train_test_split\n",
    "\n",
    "\n",
    "# assuming you've got these 4 arrays from somewhere\n",
    "# x_train, x_test, y_train, y_test\n",
    "print('AHAHAHAHAHAHAAH')\n",
    "x_train, x_test, y_train, y_test = train_test_split(x_train, y_train, test_size = 0.2, shuffle = True, stratify = y_train)\n",
    "\n",
    "# normalize the data\n",
    "x_train = x_train[0 : 700] / 255.0\n",
    "x_test = x_test[0 : 700] / 255.0\n",
    "\n",
    "# convert labels to one-hot vectors\n",
    "y_train = to_categorical(y_train[0 : 700])\n",
    "y_test = to_categorical(y_test[0 : 700])\n",
    "print('AHAHAHAHAHAHAAH')\n",
    "# define the model structure\n",
    "base_model = ResNet50(weights='imagenet', include_top=False, pooling='avg')\n",
    "model = Sequential()\n",
    "model.add(base_model)\n",
    "model.add(Dense(y_train.shape[1], activation='softmax'))  # y_train.shape[1] is num_classes\n",
    "print('BABABABABABABAABABAB')\n",
    "# do not train the base model, only train the classifier layer\n",
    "base_model.trainable = False\n",
    "\n",
    "# compile and train the model\n",
    "model.compile(optimizer='adam', loss='categorical_crossentropy', metrics=['accuracy'])\n",
    "model.fit(x_train[0 : 700], y_train[0 : 700], validation_data=(x_test[0 : 700], y_test[0 : 700]), epochs=5)\n",
    "print('CCCCCCCCCCCCCCCCCCCCCCCCCCCCC')\n",
    "# after initial training, you may want to fine-tune the entire model with a lower learning rate\n",
    "'''base_model.trainable = True\n",
    "model.compile(optimizer=tf.keras.optimizers.Adam(1e-5), loss='categorical_crossentropy', metrics=['accuracy'])\n",
    "model.fit(x_train[0 : 700], y_train[0 : 700], validation_data=(x_test[0 : 700], y_test[0 : 700]), epochs=5)\n",
    "print('CCCCCCCCCCCCCCCCCCCCCCCCCCCCC')'''\n"
   ]
  }
 ],
 "metadata": {
  "kernelspec": {
   "display_name": "venv",
   "language": "python",
   "name": "python3"
  },
  "language_info": {
   "codemirror_mode": {
    "name": "ipython",
    "version": 3
   },
   "file_extension": ".py",
   "mimetype": "text/x-python",
   "name": "python",
   "nbconvert_exporter": "python",
   "pygments_lexer": "ipython3",
   "version": "3.8.10"
  },
  "orig_nbformat": 4
 },
 "nbformat": 4,
 "nbformat_minor": 2
}
