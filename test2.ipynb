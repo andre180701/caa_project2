{
 "cells": [
  {
   "cell_type": "code",
   "execution_count": 1,
   "metadata": {},
   "outputs": [],
   "source": [
    "import pandas as pd\n",
    "import numpy as np\n",
    "import matplotlib.pyplot as plt\n",
    "import seaborn as sns\n",
    "import random\n",
    "import warnings\n",
    "from tqdm import tqdm\n",
    "import os\n",
    "import cv2\n",
    "from sklearn.model_selection import train_test_split\n",
    "import tensorflow as tf\n",
    "from keras.preprocessing.image import ImageDataGenerator\n",
    "from keras.layers import Conv2D, Flatten, MaxPooling2D, Dense, Dropout, BatchNormalization, Activation, Input\n",
    "from keras.models import Sequential, Model\n",
    "from sklearn.metrics import confusion_matrix, classification_report\n",
    "from keras import regularizers\n",
    "from keras.optimizers import RMSprop\n",
    "from keras.callbacks import EarlyStopping, ReduceLROnPlateau\n",
    "\n",
    "warnings.filterwarnings(\"ignore\")"
   ]
  },
  {
   "cell_type": "code",
   "execution_count": 2,
   "metadata": {},
   "outputs": [],
   "source": [
    "res = 216\n",
    "\n",
    "def load_data(directory):\n",
    "    images = []\n",
    "    labels = []\n",
    "    for folder in tqdm(os.listdir(directory)):\n",
    "        label = folder\n",
    "        data_path = os.path.join(directory, folder)\n",
    "        if not os.path.isdir(data_path):\n",
    "            continue\n",
    "        for filename in tqdm(os.listdir(data_path), position=0, leave=True, desc=f\"Loading images from {directory.split(os.sep)[-2]} folder\"):\n",
    "            img = cv2.imread(os.path.join(data_path, filename))\n",
    "            if img is None:\n",
    "                continue\n",
    "            img = cv2.resize(img, (res, res))\n",
    "            img = np.array(img)\n",
    "            images.append(img)\n",
    "            labels.append(label)\n",
    "    return np.array(images), np.array(labels)\n"
   ]
  },
  {
   "cell_type": "code",
   "execution_count": 4,
   "metadata": {},
   "outputs": [
    {
     "name": "stderr",
     "output_type": "stream",
     "text": [
      "Loading images from train folder: 100%|██████████| 3876/3876 [00:08<00:00, 466.17it/s]\n",
      "Loading images from train folder: 100%|██████████| 1342/1342 [00:11<00:00, 120.34it/s]\n",
      "100%|██████████| 3/3 [00:19<00:00,  6.49s/it]\n",
      "Loading images from test folder: 100%|██████████| 390/390 [00:00<00:00, 393.54it/s]\n",
      "Loading images from test folder: 100%|██████████| 234/234 [00:01<00:00, 171.39it/s]\n",
      "100%|██████████| 3/3 [00:02<00:00,  1.27it/s]\n"
     ]
    }
   ],
   "source": [
    "x_train, y_train = load_data('chest_xray/chest_xray/train/')\n",
    "x_test, y_test = load_data('chest_xray/chest_xray/test/')"
   ]
  },
  {
   "cell_type": "code",
   "execution_count": 5,
   "metadata": {},
   "outputs": [],
   "source": [
    "y_train = np.where(y_train == 'NORMAL', 0, 1)\n",
    "y_test = np.where(y_test == 'NORMAL', 0, 1)"
   ]
  },
  {
   "cell_type": "code",
   "execution_count": 8,
   "metadata": {},
   "outputs": [
    {
     "name": "stdout",
     "output_type": "stream",
     "text": [
      "Epoch 1/5\n",
      "22/22 [==============================] - 100s 5s/step - loss: 0.9546 - accuracy: 0.7386 - val_loss: 5.4556 - val_accuracy: 0.6250\n",
      "Epoch 2/5\n",
      "22/22 [==============================] - 98s 5s/step - loss: 0.0053 - accuracy: 0.9971 - val_loss: 6.6467 - val_accuracy: 0.6250\n",
      "Epoch 3/5\n",
      "22/22 [==============================] - 98s 5s/step - loss: 0.0020 - accuracy: 0.9986 - val_loss: 6.8404 - val_accuracy: 0.6250\n",
      "Epoch 4/5\n",
      "22/22 [==============================] - 100s 5s/step - loss: 0.0017 - accuracy: 1.0000 - val_loss: 6.8989 - val_accuracy: 0.6250\n",
      "Epoch 5/5\n",
      "22/22 [==============================] - 99s 5s/step - loss: 0.0015 - accuracy: 1.0000 - val_loss: 6.9400 - val_accuracy: 0.6250\n"
     ]
    }
   ],
   "source": [
    "from tensorflow.keras.applications import VGG16\n",
    "from tensorflow.keras.models import Sequential\n",
    "from tensorflow.keras.layers import Dense\n",
    "\n",
    "# define the model structure\n",
    "base_model = VGG16(weights='imagenet', include_top=False, input_shape=(216, 216, 3), pooling='avg')\n",
    "model = Sequential()\n",
    "model.add(base_model)\n",
    "model.add(Dense(1, activation='sigmoid'))  # For binary classification use 1 neuron with 'sigmoid' activation\n",
    "\n",
    "# freeze the base model\n",
    "base_model.trainable = False\n",
    "\n",
    "# compile the model\n",
    "model.compile(optimizer='adam', loss='binary_crossentropy', metrics=['accuracy'])\n",
    "\n",
    "# train the model\n",
    "history = model.fit(x_train[:700], y_train[:700], validation_data=(x_test[:700], y_test[:700]), epochs=5)\n"
   ]
  },
  {
   "cell_type": "code",
   "execution_count": 12,
   "metadata": {},
   "outputs": [
    {
     "name": "stdout",
     "output_type": "stream",
     "text": [
      "20/20 [==============================] - 46s 2s/step\n",
      "              precision    recall  f1-score   support\n",
      "\n",
      "           0       0.00      0.00      0.00       234\n",
      "           1       0.62      1.00      0.77       390\n",
      "\n",
      "    accuracy                           0.62       624\n",
      "   macro avg       0.31      0.50      0.38       624\n",
      "weighted avg       0.39      0.62      0.48       624\n",
      "\n"
     ]
    }
   ],
   "source": [
    "from sklearn.metrics import classification_report\n",
    "import numpy as np\n",
    "\n",
    "# make predictions on the test set\n",
    "y_pred = model.predict(x_test)\n",
    "\n",
    "# since this is a binary classification problem and our model uses a sigmoid function\n",
    "# we will convert probabilities to class labels using a threshold of 0.5\n",
    "y_pred = (y_pred > 0.5).astype(int)\n",
    "\n",
    "# generate and print the classification report\n",
    "report = classification_report(y_test, y_pred)\n",
    "print(report)"
   ]
  },
  {
   "cell_type": "code",
   "execution_count": 10,
   "metadata": {},
   "outputs": [
    {
     "data": {
      "image/png": "[encoded data removed]",
      "text/plain": [
       "<Figure size 1000x600 with 1 Axes>"
      ]
     },
     "metadata": {},
     "output_type": "display_data"
    }
   ],
   "source": [
    "plt.figure(figsize=(10, 6))\n",
    "plt.plot( history.history['loss'], label='Training Loss')\n",
    "plt.plot( history.history['val_loss'], label='Validation Loss')\n",
    "plt.title('Training and Validation Loss Curves')\n",
    "plt.legend()\n",
    "plt.show()"
   ]
  }
 ],
 "metadata": {
  "kernelspec": {
   "display_name": "venv",
   "language": "python",
   "name": "python3"
  },
  "language_info": {
   "codemirror_mode": {
    "name": "ipython",
    "version": 3
   },
   "file_extension": ".py",
   "mimetype": "text/x-python",
   "name": "python",
   "nbconvert_exporter": "python",
   "pygments_lexer": "ipython3",
   "version": "3.9.6"
  },
  "orig_nbformat": 4
 },
 "nbformat": 4,
 "nbformat_minor": 2
}
